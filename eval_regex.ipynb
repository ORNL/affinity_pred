{
  "cells": [
    {
      "cell_type": "markdown",
      "source": [
        "<font color=\"red\">If running on Google Colab, go to Runtime -> Change Runtime Type -> Hardware Accelerator, select **GPU**</font>"
      ],
      "metadata": {
        "id": "ZmwMO3Whzras"
      },
      "id": "ZmwMO3Whzras"
    },
    {
      "cell_type": "code",
      "source": [
        "pip install -q git+https://github.com/jglaser/affinity_pred.git"
      ],
      "metadata": {
        "id": "ljiuNcknzUq-"
      },
      "id": "ljiuNcknzUq-",
      "execution_count": null,
      "outputs": []
    },
    {
      "cell_type": "code",
      "execution_count": null,
      "id": "41cdb3c9-6e57-4115-a13a-e28c90e748ed",
      "metadata": {
        "id": "41cdb3c9-6e57-4115-a13a-e28c90e748ed"
      },
      "outputs": [],
      "source": [
        "import torch\n",
        "from torch.utils.data import Dataset\n",
        "from datasets import load_dataset\n",
        "from transformers import AutoTokenizer, Trainer\n",
        "from transformers import EvalPrediction\n",
        "from transformers import TrainingArguments\n",
        "\n",
        "from huggingface_hub import hf_hub_download\n",
        "\n",
        "\n",
        "from sklearn.metrics import mean_squared_error, mean_absolute_error\n",
        "from sklearn.preprocessing import StandardScaler\n",
        "\n",
        "from sklearn.metrics import precision_recall_curve \n",
        "\n",
        "from scipy.stats import spearmanr\n",
        "\n",
        "import pandas as pd\n",
        "import numpy as np\n",
        "import re\n",
        "\n",
        "import requests\n",
        "import io"
      ]
    },
    {
      "cell_type": "code",
      "execution_count": null,
      "id": "047c0e9a-fcf0-4576-8c72-4477a1a30026",
      "metadata": {
        "id": "047c0e9a-fcf0-4576-8c72-4477a1a30026"
      },
      "outputs": [],
      "source": [
        "# the transformer model\n",
        "from affinity_pred.model import EnsembleSequenceRegressor"
      ]
    },
    {
      "cell_type": "markdown",
      "id": "7387b534-72e4-4555-9907-fcc21bb33a95",
      "metadata": {
        "id": "7387b534-72e4-4555-9907-fcc21bb33a95"
      },
      "source": [
        "**Load tokenizers**"
      ]
    },
    {
      "cell_type": "code",
      "execution_count": null,
      "id": "f3e0e52c-d562-49e4-ba81-8af6197218df",
      "metadata": {
        "id": "f3e0e52c-d562-49e4-ba81-8af6197218df"
      },
      "outputs": [],
      "source": [
        "seq_model_name = \"Rostlab/prot_bert_bfd\"\n",
        "seq_tokenizer = AutoTokenizer.from_pretrained(seq_model_name, do_lower_case=False)"
      ]
    },
    {
      "cell_type": "code",
      "execution_count": null,
      "id": "2db5a219-6bca-4e43-a18f-0225a50a90d1",
      "metadata": {
        "id": "2db5a219-6bca-4e43-a18f-0225a50a90d1"
      },
      "outputs": [],
      "source": [
        "smiles_model_name = 'mossaic-candle/regex-gb-2021'\n",
        "smiles_tokenizer =  AutoTokenizer.from_pretrained(smiles_model_name)"
      ]
    },
    {
      "cell_type": "code",
      "execution_count": null,
      "id": "21ffc0ee-7958-4ecd-a259-5f873ea2c61a",
      "metadata": {
        "id": "21ffc0ee-7958-4ecd-a259-5f873ea2c61a"
      },
      "outputs": [],
      "source": [
        "def expand_seqs(seqs):\n",
        "    input_fixed = [\"\".join(seq.split()) for seq in seqs]\n",
        "    input_fixed = [re.sub(r\"[UZOB]\", \"X\", seq) for seq in input_fixed]\n",
        "    return [list(seq) for seq in input_fixed]"
      ]
    },
    {
      "cell_type": "code",
      "execution_count": null,
      "id": "6d058edd-11f5-49c7-a5b6-b82d69c3857c",
      "metadata": {
        "id": "6d058edd-11f5-49c7-a5b6-b82d69c3857c"
      },
      "outputs": [],
      "source": [
        "# on-the-fly tokenization\n",
        "\n",
        "# the maximum length of a protein seqeuence (for inference)\n",
        "max_seq_length=512\n",
        "\n",
        "# the maximum length of a SMILES sequence\n",
        "max_smiles_length=256\n",
        "\n",
        "def encode(item):\n",
        "        seq_encodings = seq_tokenizer(expand_seqs(item['seq'])[0],\n",
        "                                      truncation=True,\n",
        "                                      padding='max_length',\n",
        "                                      max_length=max_seq_length,\n",
        "                                      is_split_into_words=True)\n",
        "        \n",
        "        # use RDkit canonical SMILES        \n",
        "        if 'smiles_can' in item:\n",
        "            smiles = item['smiles_can'][0]\n",
        "        else:\n",
        "            smiles = item['smiles'][0]\n",
        "            \n",
        "        smiles_encodings = smiles_tokenizer(smiles,\n",
        "                                            padding='max_length',\n",
        "                                            truncation=True,\n",
        "                                            max_length=max_smiles_length)\n",
        "        \n",
        "        # concatenate the two different inputs\n",
        "        item['input_ids'] = [torch.cat([torch.tensor(seq_encodings['input_ids']),\n",
        "                                        torch.tensor(smiles_encodings['input_ids'])])]\n",
        "        item['attention_mask'] = [torch.cat([torch.tensor(seq_encodings['attention_mask']),\n",
        "                                        torch.tensor(smiles_encodings['attention_mask'])])]\n",
        "        return item"
      ]
    },
    {
      "cell_type": "code",
      "execution_count": null,
      "id": "18092754-9f18-43b9-9ab3-616b784160b5",
      "metadata": {
        "id": "18092754-9f18-43b9-9ab3-616b784160b5"
      },
      "outputs": [],
      "source": [
        "class AffinityDataset(Dataset):\n",
        "    def __init__(self, dataset):\n",
        "        self.dataset = dataset\n",
        "\n",
        "    def __getitem__(self, idx):\n",
        "        item = self.dataset[idx]\n",
        "        \n",
        "        #affinity = item['neg_log10_affinity_M']\n",
        "        affinity = item['affinity']\n",
        "        item['labels'] = float(affinity)\n",
        "        \n",
        "        # drop the non-encoded input\n",
        "        item.pop('smiles')\n",
        "        item.pop('smiles_can')\n",
        "        item.pop('seq')\n",
        "        item.pop('neg_log10_affinity_M')\n",
        "        item.pop('affinity_uM')\n",
        "        item.pop('affinity')\n",
        "        return item\n",
        "\n",
        "    def __len__(self):\n",
        "        return len(self.dataset)"
      ]
    },
    {
      "cell_type": "markdown",
      "id": "bce2b9ad-809e-4a82-bea6-0b26ca143b4b",
      "metadata": {
        "id": "bce2b9ad-809e-4a82-bea6-0b26ca143b4b"
      },
      "source": [
        "**Load model**"
      ]
    },
    {
      "cell_type": "code",
      "execution_count": null,
      "id": "48ad68de-add2-4736-8579-b1087816ca0b",
      "metadata": {
        "id": "48ad68de-add2-4736-8579-b1087816ca0b"
      },
      "outputs": [],
      "source": [
        "def model_init():\n",
        "    model = EnsembleSequenceRegressor(seq_model_name, smiles_model_name, max_seq_length=max_seq_length)\n",
        "\n",
        "    # select one of the following ensemble members\n",
        "    model_name = 'regex_1'\n",
        "    #model_name = 'regex_2'\n",
        "    #model_name = 'regex_3'\n",
        "    #model_name = 'regex_4'\n",
        "    #model_name = 'regex_5'\n",
        "\n",
        "    # download the weights\n",
        "    fn = hf_hub_download(repo_id=\"jglaser/affinity_pred_{}\".format(model_name), filename='pytorch_model.bin')\n",
        "    checkpoint = torch.load(fn)\n",
        "    model.load_state_dict(checkpoint)\n",
        "    return model"
      ]
    },
    {
      "cell_type": "code",
      "execution_count": null,
      "id": "5488ef7d-6c17-4543-897e-ada3be382b79",
      "metadata": {
        "id": "5488ef7d-6c17-4543-897e-ada3be382b79"
      },
      "outputs": [],
      "source": [
        "def compute_metrics(p: EvalPrediction):\n",
        "    preds_list, out_label_list = p.predictions, p.label_ids\n",
        "\n",
        "    return {\n",
        "        \"mse\": mean_squared_error(out_label_list, preds_list),\n",
        "        \"mae\": mean_absolute_error(out_label_list, preds_list),\n",
        "        \"spearman_rho\": spearmanr(out_label_list, preds_list).correlation,\n",
        "    }"
      ]
    },
    {
      "cell_type": "code",
      "execution_count": null,
      "id": "6cd68220-b6ed-487e-ae99-c52cc6b0896c",
      "metadata": {
        "id": "6cd68220-b6ed-487e-ae99-c52cc6b0896c"
      },
      "outputs": [],
      "source": [
        "trainer = Trainer(\n",
        "    model_init=model_init,                # the instantiated Transformers model to be trained\n",
        "    compute_metrics = compute_metrics,    # evaluation metric\n",
        "    args=TrainingArguments(per_device_eval_batch_size=32, # reduce if running out of memory\n",
        "                           output_dir='results'),\n",
        ")"
      ]
    },
    {
      "cell_type": "markdown",
      "id": "7bd1307f-e5e6-41ad-b4ab-c33eb8a4a159",
      "metadata": {
        "id": "7bd1307f-e5e6-41ad-b4ab-c33eb8a4a159"
      },
      "source": [
        "**Test dataset**"
      ]
    },
    {
      "cell_type": "code",
      "execution_count": null,
      "id": "fe592c4e-9829-4dbe-b830-c2459566c085",
      "metadata": {
        "id": "fe592c4e-9829-4dbe-b830-c2459566c085"
      },
      "outputs": [],
      "source": [
        "data_all = load_dataset(\"jglaser/binding_affinity\",split='train')\n",
        "split = data_all.train_test_split(train_size=1000)\n",
        "test = split['train']\n",
        "test.set_transform(encode)"
      ]
    },
    {
      "cell_type": "code",
      "execution_count": null,
      "id": "43e6e04e-ca46-4144-a3f4-bec4abd16302",
      "metadata": {
        "id": "43e6e04e-ca46-4144-a3f4-bec4abd16302"
      },
      "outputs": [],
      "source": [
        "test_dataset = AffinityDataset(test)"
      ]
    },
    {
      "cell_type": "code",
      "execution_count": null,
      "id": "ecf6ab56-45af-433f-90f2-2e9cb2859f19",
      "metadata": {
        "id": "ecf6ab56-45af-433f-90f2-2e9cb2859f19"
      },
      "outputs": [],
      "source": [
        "y = trainer.predict(test_dataset)"
      ]
    },
    {
      "cell_type": "code",
      "execution_count": null,
      "id": "7ca03e10-3ca8-4cab-83e0-8ee28debaf04",
      "metadata": {
        "id": "7ca03e10-3ca8-4cab-83e0-8ee28debaf04"
      },
      "outputs": [],
      "source": [
        "# un-normalize predictions [to -log_10 affinity[M] units]\n",
        "field_log10 = 'neg_log10_affinity_M'\n",
        "mean, var = (np.mean(data_all[field_log10]), np.var(data_all[field_log10]))\n",
        "def scale(x):\n",
        "    return x*np.sqrt(var)+mean"
      ]
    },
    {
      "cell_type": "code",
      "execution_count": null,
      "id": "f00b0f4d-82f8-4df6-a2ec-ce60636aa713",
      "metadata": {
        "id": "f00b0f4d-82f8-4df6-a2ec-ce60636aa713"
      },
      "outputs": [],
      "source": [
        "y.metrics['test_mse'] * var"
      ]
    },
    {
      "cell_type": "code",
      "execution_count": null,
      "id": "856d9060-624c-4a63-92ab-d9a1096b39c4",
      "metadata": {
        "id": "856d9060-624c-4a63-92ab-d9a1096b39c4"
      },
      "outputs": [],
      "source": [
        "y.metrics['test_spearman_rho']"
      ]
    },
    {
      "cell_type": "markdown",
      "id": "19fb19ce-8d41-4535-9132-caaddd89ebd4",
      "metadata": {
        "id": "19fb19ce-8d41-4535-9132-caaddd89ebd4"
      },
      "source": [
        "**PostEra Mpro dataset**"
      ]
    },
    {
      "cell_type": "code",
      "execution_count": null,
      "id": "9f77669b-8394-41e4-89ac-a61bf95ca248",
      "metadata": {
        "id": "9f77669b-8394-41e4-89ac-a61bf95ca248"
      },
      "outputs": [],
      "source": [
        "# SARS-CoV main protease\n",
        "mpro_seq_5r84 = \"SGFRKMAFPSGKVEGCMVQVTCGTTTLNGLWLDDVVYCPRHVICTSEDMLNPNYEDLLIRKSNHNFLVQAGNVQLRVIGHSMQNCVLKLKVDTANPKTPKYKFVRIQPGQTFSVLACYNGSPSGVYQCAMRPNFTIKGSFLNGSCGSVGFNIDYDCVSFCYMHHMELPTGVHAGTDLEGNFYGPFVDRQTAQAAGTDTTITVNVLAWLYAAVINGDRWFLNRFTTTLNDFNLVAMKYNYEPLTQDHVDILGPLSAQTGIAVLDMCASLKELLQNGMNGRTILGSALLEDEFTPFDVVRQCSGVTFQ\""
      ]
    },
    {
      "cell_type": "code",
      "execution_count": null,
      "id": "4db16f42-3246-4608-b3ad-e2f7fe11e40b",
      "metadata": {
        "id": "4db16f42-3246-4608-b3ad-e2f7fe11e40b"
      },
      "outputs": [],
      "source": [
        "len(mpro_seq_5r84)"
      ]
    },
    {
      "cell_type": "code",
      "execution_count": null,
      "id": "6c576d7c-9aa1-46a9-b9ed-6ccd76353e28",
      "metadata": {
        "id": "6c576d7c-9aa1-46a9-b9ed-6ccd76353e28"
      },
      "outputs": [],
      "source": [
        "class PosteraDataset(Dataset):\n",
        "    def __init__(self, df, mean, var, seq):\n",
        "        self.df = df\n",
        "        self.mean = mean\n",
        "        self.var = var\n",
        "        self.seq = seq\n",
        "        \n",
        "    def __getitem__(self, idx):\n",
        "        row = self.df.iloc[idx]\n",
        "        \n",
        "        item = {'smiles': [row.SMILES], 'seq': [self.seq]}\n",
        "        item = encode(item)\n",
        "        \n",
        "        # get first (single) item\n",
        "        item['input_ids'] = item['input_ids'][0]\n",
        "        item['attention_mask'] = item['attention_mask'][0]\n",
        "        \n",
        "        affinity = 6-np.log(row['f_avg_IC50'])/np.log(10)\n",
        "        affinity = (affinity-self.mean)/np.sqrt(self.var)\n",
        "        item['labels'] = float(affinity)\n",
        "        \n",
        "        # drop the non-encoded input\n",
        "        item.pop('smiles')\n",
        "        item.pop('seq')\n",
        "        return item\n",
        "\n",
        "    def __len__(self):\n",
        "        return len(self.df)"
      ]
    },
    {
      "cell_type": "code",
      "source": [
        "url = \"https://covid.postera.ai/covid/activity_data.csv\" # Download from COVID-19 Moonshot\n",
        "download = requests.get(url).content\n",
        "df = pd.read_csv(io.StringIO(download.decode('utf-8')))"
      ],
      "metadata": {
        "id": "-BJB-OKq2d8Y"
      },
      "id": "-BJB-OKq2d8Y",
      "execution_count": null,
      "outputs": []
    },
    {
      "cell_type": "code",
      "execution_count": null,
      "id": "1c6eda5f-1b30-48d2-9777-b4208e21d575",
      "metadata": {
        "id": "1c6eda5f-1b30-48d2-9777-b4208e21d575"
      },
      "outputs": [],
      "source": [
        "df = df[~df['f_avg_IC50'].isnull()].reset_index(drop=True)"
      ]
    },
    {
      "cell_type": "code",
      "execution_count": null,
      "id": "cd9cc1cd-511d-4f7f-9473-14fc05fcfb30",
      "metadata": {
        "id": "cd9cc1cd-511d-4f7f-9473-14fc05fcfb30"
      },
      "outputs": [],
      "source": [
        "postera_dataset = PosteraDataset(df=df, mean=mean, var=var, seq=mpro_seq_5r84)"
      ]
    },
    {
      "cell_type": "code",
      "execution_count": null,
      "id": "442efaf3-39ef-451b-a52b-4884d570ec38",
      "metadata": {
        "id": "442efaf3-39ef-451b-a52b-4884d570ec38"
      },
      "outputs": [],
      "source": [
        "len(postera_dataset)"
      ]
    },
    {
      "cell_type": "code",
      "execution_count": null,
      "id": "2723c658-6a38-45f5-9369-3a56563977fe",
      "metadata": {
        "id": "2723c658-6a38-45f5-9369-3a56563977fe"
      },
      "outputs": [],
      "source": [
        "y=trainer.predict(postera_dataset)"
      ]
    },
    {
      "cell_type": "code",
      "execution_count": null,
      "id": "c21bb19f-1c7d-4897-a378-1d1927cb0ddb",
      "metadata": {
        "id": "c21bb19f-1c7d-4897-a378-1d1927cb0ddb"
      },
      "outputs": [],
      "source": [
        "y.metrics['test_mse'] * var"
      ]
    },
    {
      "cell_type": "code",
      "execution_count": null,
      "id": "095d3dcd-8887-4054-b4b1-170112c8b740",
      "metadata": {
        "id": "095d3dcd-8887-4054-b4b1-170112c8b740"
      },
      "outputs": [],
      "source": [
        "y.metrics['test_spearman_rho']"
      ]
    },
    {
      "cell_type": "code",
      "execution_count": null,
      "id": "932cc723-d2de-44ce-830f-f5340cc23f26",
      "metadata": {
        "id": "932cc723-d2de-44ce-830f-f5340cc23f26"
      },
      "outputs": [],
      "source": [
        "df['prediction'] = scale(y.predictions)"
      ]
    },
    {
      "cell_type": "code",
      "execution_count": null,
      "id": "e391a135-e288-4753-98a3-0a863a344873",
      "metadata": {
        "id": "e391a135-e288-4753-98a3-0a863a344873"
      },
      "outputs": [],
      "source": [
        "import matplotlib.pyplot as plt\n",
        "\n",
        "thresh = 2.5 # the activity threshold in uM below which a ground truth sample is considered 'active'\n",
        "nbootstrap = 500\n",
        "samplesize = 100\n",
        "x = np.linspace(0,1,100)\n",
        "\n",
        "ps = []\n",
        "for i in range(nbootstrap):\n",
        "    df_sample = df.sample(n=samplesize,replace=True)\n",
        "    yr = df_sample.f_avg_IC50 < thresh\n",
        "    #yr = df_sample.f_inhibition_at_20_uM > thresh\n",
        "    p, r, _ = precision_recall_curve(yr, df_sample.prediction)\n",
        "    ps.append(np.interp(x,r[::-1],p[::-1]))\n",
        "    \n",
        "ps = np.vstack(ps)\n",
        "pavg = np.mean(ps,axis=0)\n",
        "perr = np.std(ps,axis=0)\n",
        "auc = np.trapz(pavg[::-1],x)\n",
        "alpha_err = 0.15\n",
        "fig, ax = plt.subplots()\n",
        "fig.set_size_inches(9,6)\n",
        "\n",
        "ax.plot(x, pavg, label='AUC={:.5f}, thresh={} $\\\\mathrm{{\\\\mu M}}$'.format(auc,thresh),color='r',lw=4)\n",
        "ax.fill_between(x, pavg - perr, pavg + perr, color='r', alpha=alpha_err)\n",
        "\n",
        "ax.axhline(pavg[-1], dashes=[5.0,5.0], color='k')\n",
        "\n",
        "ax.set_ylim(0,1)\n",
        "\n",
        "ax.set_xlabel('recall',fontsize=36)\n",
        "ax.set_ylabel('precision',fontsize=36)\n",
        "ax.set_ylim(0,1)\n",
        "ax.tick_params(labelsize=22)\n",
        "l = ax.legend(frameon=False,title='PostEra Mpro dataset',fontsize=22)\n",
        "l.get_title().set_fontsize(22)\n",
        "\n",
        "fig.tight_layout()\n",
        "#fig.savefig('postera_pr_{:.2f}.png'.format(thresh))"
      ]
    }
  ],
  "metadata": {
    "kernelspec": {
      "display_name": "OLCF-CUDA11 (ipykernel)",
      "language": "python",
      "name": "python3"
    },
    "language_info": {
      "codemirror_mode": {
        "name": "ipython",
        "version": 3
      },
      "file_extension": ".py",
      "mimetype": "text/x-python",
      "name": "python",
      "nbconvert_exporter": "python",
      "pygments_lexer": "ipython3",
      "version": "3.8.10"
    },
    "colab": {
      "provenance": []
    },
    "accelerator": "GPU"
  },
  "nbformat": 4,
  "nbformat_minor": 5
}